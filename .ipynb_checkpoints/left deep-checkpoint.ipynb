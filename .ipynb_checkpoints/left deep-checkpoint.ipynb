{
 "cells": [
  {
   "cell_type": "code",
   "execution_count": 1,
   "metadata": {},
   "outputs": [],
   "source": [
    "\n",
    "\n",
    "\n",
    "\n",
    "\n",
    "\n"
   ]
  },
  {
   "cell_type": "code",
   "execution_count": 1,
   "metadata": {},
   "outputs": [],
   "source": [
    "import random\n",
    "import numpy as np\n",
    "from queryParser import queryParser,listToQuery\n",
    "from functions import *\n",
    "import psycopg2\n",
    "from moz_sql_parser import parse\n",
    "from moz_sql_parser import format\n",
    "joinedClauses=[]\n",
    "alias={}\n",
    "def init():\n",
    "    \n",
    "    joinedClauses=[]\n",
    "    alias={}\n",
    "    \n",
    "\n",
    "def queryParser(input):\n",
    "    init()\n",
    "    parsed_query=parse(input)\n",
    "    from_clause=parsed_query[\"from\"]\n",
    "    for j in range(0,len(from_clause)):\n",
    "        alias[from_clause[j][\"name\"]]=from_clause[j][\"value\"]\n",
    "\n",
    "    where_clause=parsed_query[\"where\"][\"and\"]\n",
    "    for t in where_clause :\n",
    "        if \"eq\" in t:\n",
    "            if isinstance(t['eq'][1],str):\n",
    "                joinedClauses.append(t['eq'])\n",
    "                del(t)\n",
    "\n",
    "            #print('joined tables' , joinedTables)\n",
    "            #print('alias',alias)\n",
    "            #print('joined clauses' , joinedClauses)\n",
    "    return joinedClauses,alias\n",
    "            #apply algorithm\n",
    "   \n",
    "            #table avec alias sans join clause from:[{}{}{}]\n",
    "        \n",
    "            \n",
    "            \n",
    "            ##########################################################################################\n",
    "\n",
    "\n",
    "\n",
    "def get_alias(clause):\n",
    "    a1=clause[0].rpartition('.')[0]\n",
    "    a2=clause[1].rpartition('.')[0]\n",
    "    return a1,a2\n",
    "\n",
    "\n",
    "def t_exist(t,table):\n",
    "    i=0\n",
    "    while i<len(table) and table[i]!=t:\n",
    "        i+=1\n",
    "    if i==len(table) :\n",
    "        return False\n",
    "    else:\n",
    "        return True\n",
    "\n",
    "        \n",
    "def exist(a1,a2,usedTables):\n",
    "    if(t_exist(a1,usedTables)and t_exist(a2,usedTables)):\n",
    "        return []\n",
    "    elif (t_exist(a1,usedTables)):\n",
    "        return [a2]\n",
    "    elif (t_exist(a2,usedTables)):\n",
    "        return [a1]\n",
    "    else:\n",
    "        return [a1,a2]\n",
    "def     \n",
    "def get_randomState(parsed_query,alias,joinedClauses):\n",
    "    usedTables=[]\n",
    "    queryTables={}\n",
    "    queryTables.update(alias)\n",
    "    #print('qieryTables',queryTables)\n",
    "    new_json=parsed_query\n",
    "    clauses=random.sample(joinedClauses, len(joinedClauses))\n",
    "    print('state',clauses)\n",
    "    a1,a2=get_alias(clauses[0])\n",
    "    print(a1,a2)\n",
    "    p=np.random.randint(2)\n",
    "    if p==0:\n",
    "        new_from=[{\"value\":alias[a1],\"name\":a1},{'join':{'name':a2,'value':alias[a2]} , 'on':{'eq':clauses[0]}  }]\n",
    "        \n",
    "    else:\n",
    "        new_from=[{\"value\":alias[a2],\"name\":a2},{'join':{'name':a1,'value':alias[a1]}, 'on':{'eq':clauses[0]}   }]\n",
    "    usedTables.append(a1)\n",
    "    usedTables.append(a2)\n",
    "    #print(new_from)\n",
    "    clauses.remove(clauses[0])\n",
    "    del queryTables[a1]\n",
    "    del queryTables[a2]\n",
    "    #print('queryTables',len(queryTables))\n",
    "    \n",
    "    while(len(queryTables)>0):\n",
    "        i=0\n",
    "        \n",
    "        while(i<len(clauses)) :\n",
    "            print('iii',i)\n",
    "            \n",
    "            a1,a2=get_alias(clauses[i])\n",
    "            print(a1,a2)\n",
    "            print('used table',usedTables)\n",
    "            c=exist(a1,a2,usedTables)\n",
    "            print('cc',c)\n",
    "            if(len(c)==1):\n",
    "                print('esss')\n",
    "                new_from.append({'join':{'name':c[0],'value':alias[c[0]]}, 'on':{'eq':clauses[i]}})\n",
    "                usedTables.append(c[0])\n",
    "                del queryTables[c[0]]\n",
    "                print('queryTables',len(queryTables))\n",
    "                clauses.remove(clauses[i])\n",
    "            elif(len(c)==0):\n",
    "                clauses.remove(clauses[i])\n",
    "                \n",
    "            else:\n",
    "                i+=1\n",
    "            print(\"clauseeeees\",clauses)\n",
    "            \n",
    "            \n",
    "    \n",
    "    new_json[\"from\"]=new_from\n",
    "    where_clause=new_json[\"where\"][\"and\"]\n",
    "    for t in where_clause :\n",
    "        if \"eq\" in t:\n",
    "            if isinstance(t['eq'][1],str):\n",
    "                joinedClauses.append(t['eq'])\n",
    "                del(t)\n",
    "    new_query=format(new_json)\n",
    "    return new_json,new_query\n",
    "                                 \n",
    "                                 \n",
    "                \n",
    "                \n",
    "            \n",
    "    \n",
    "    \n",
    "    "
   ]
  },
  {
   "cell_type": "code",
   "execution_count": 2,
   "metadata": {},
   "outputs": [
    {
     "name": "stdout",
     "output_type": "stream",
     "text": [
      "{'select': {'value': {'min': 't.title'}, 'name': 'american_vhs_movie'}, 'from': [{'value': 'company_type', 'name': 'ct'}, {'value': 'info_type', 'name': 'it'}, {'value': 'movie_companies', 'name': 'mc'}, {'value': 'movie_info', 'name': 'mi'}, {'value': 'title', 'name': 't'}], 'where': {'and': [{'eq': ['ct.kind', {'literal': 'production companies'}]}, {'eq': ['t.id', 'mi.movie_id']}, {'eq': ['t.id', 'mc.movie_id']}, {'eq': ['mc.movie_id', 'mi.movie_id']}, {'eq': ['ct.id', 'mc.company_type_id']}, {'eq': ['it.id', 'mi.info_type_id']}]}}\n",
      "[['t.id', 'mi.movie_id'], ['t.id', 'mc.movie_id'], ['mc.movie_id', 'mi.movie_id'], ['ct.id', 'mc.company_type_id'], ['it.id', 'mi.info_type_id']]\n",
      "alias {'ct': 'company_type', 'it': 'info_type', 'mc': 'movie_companies', 'mi': 'movie_info', 't': 'title'}\n",
      "state [['t.id', 'mi.movie_id'], ['mc.movie_id', 'mi.movie_id'], ['t.id', 'mc.movie_id'], ['ct.id', 'mc.company_type_id'], ['it.id', 'mi.info_type_id']]\n",
      "t mi\n",
      "iii 0\n",
      "mc mi\n",
      "used table ['t', 'mi']\n",
      "cc ['mc']\n",
      "esss\n",
      "queryTables 2\n",
      "clauseeeees [['t.id', 'mc.movie_id'], ['ct.id', 'mc.company_type_id'], ['it.id', 'mi.info_type_id']]\n",
      "iii 0\n",
      "t mc\n",
      "used table ['t', 'mi', 'mc']\n",
      "cc []\n",
      "clauseeeees [['ct.id', 'mc.company_type_id'], ['it.id', 'mi.info_type_id']]\n",
      "iii 0\n",
      "ct mc\n",
      "used table ['t', 'mi', 'mc']\n",
      "cc ['ct']\n",
      "esss\n",
      "queryTables 1\n",
      "clauseeeees [['it.id', 'mi.info_type_id']]\n",
      "iii 0\n",
      "it mi\n",
      "used table ['t', 'mi', 'mc', 'ct']\n",
      "cc ['it']\n",
      "esss\n",
      "queryTables 0\n",
      "clauseeeees []\n",
      "jsooon {'select': {'value': {'min': 't.title'}, 'name': 'american_vhs_movie'}, 'from': [{'value': 'movie_info', 'name': 'mi'}, {'join': {'name': 't', 'value': 'title'}, 'on': {'eq': ['t.id', 'mi.movie_id']}}, {'join': {'name': 'mc', 'value': 'movie_companies'}, 'on': {'eq': ['mc.movie_id', 'mi.movie_id']}}, {'join': {'name': 'ct', 'value': 'company_type'}, 'on': {'eq': ['ct.id', 'mc.company_type_id']}}, {'join': {'name': 'it', 'value': 'info_type'}, 'on': {'eq': ['it.id', 'mi.info_type_id']}}], 'where': {'and': [{'eq': ['ct.kind', {'literal': 'production companies'}]}, {'eq': ['t.id', 'mi.movie_id']}, {'eq': ['t.id', 'mc.movie_id']}, {'eq': ['mc.movie_id', 'mi.movie_id']}, {'eq': ['ct.id', 'mc.company_type_id']}, {'eq': ['it.id', 'mi.info_type_id']}]}}\n",
      "randomState SELECT MIN(t.title) AS american_vhs_movie FROM movie_info AS mi JOIN title AS t ON t.id = mi.movie_id JOIN movie_companies AS mc ON mc.movie_id = mi.movie_id JOIN company_type AS ct ON ct.id = mc.company_type_id JOIN info_type AS it ON it.id = mi.info_type_id WHERE ct.kind = 'production companies' AND t.id = mi.movie_id AND t.id = mc.movie_id AND mc.movie_id = mi.movie_id AND ct.id = mc.company_type_id AND it.id = mi.info_type_id\n"
     ]
    }
   ],
   "source": [
    "input=\"SELECT MIN(t.title) AS american_vhs_movie FROM company_type AS ct,info_type AS it,movie_companies AS mc,movie_info AS mi,title AS t WHERE ct.kind = 'production companies'AND t.id = mi.movie_id AND t.id = mc.movie_id AND mc.movie_id = mi.movie_id AND ct.id = mc.company_type_id AND it.id = mi.info_type_id;\"\n",
    "parsed_query=parse(input)\n",
    "print(parsed_query)\n",
    "joinedClauses,alias=queryParser(input)\n",
    "print(joinedClauses)\n",
    "print('alias',alias)\n",
    "new_json,randomState=get_randomState(parsed_query,alias,joinedClauses)\n",
    "print('jsooon',new_json)\n",
    "print('randomState',randomState)"
   ]
  },
  {
   "cell_type": "code",
   "execution_count": 3,
   "metadata": {},
   "outputs": [
    {
     "name": "stdout",
     "output_type": "stream",
     "text": [
      "{'select': [{'value': 'd.d_year'}, {'value': 's.s_city'}, {'value': 'p.p_brand1'}, {'value': {'sum': {'sub': ['l.lo_revenue', 'l.lo_supplycost']}}, 'name': 'profit'}], 'from': [{'value': 'date', 'name': 'd'}, {'value': 'customer', 'name': 'c'}, {'value': 'supplier', 'name': 's'}, {'value': 'part', 'name': 'p'}, {'value': 'lineorder', 'name': 'l'}], 'where': {'and': [{'eq': ['l.lo_custkey', 'c.c_custkey']}, {'eq': ['l.lo_suppkey', 's.s_suppkey']}, {'eq': ['l.lo_partkey', 'p.p_partkey']}, {'eq': ['l.lo_orderdate', 'd.d_datekey']}, {'eq': ['c.c_region', {'literal': 'AMERICA'}]}, {'eq': ['s.s_nation', {'literal': 'UNITED STATES'}]}, {'or': [{'eq': ['d.d_year', 1997]}, {'eq': ['d.d_year', 1998]}]}, {'eq': ['p.p_category', {'literal': 'MFGR#14'}]}]}, 'groupby': [{'value': 'd.d_year'}, {'value': 's.s_city'}, {'value': 'p.p_brand1'}], 'orderby': [{'value': 'd.d_year'}, {'value': 's.s_city'}, {'value': 'p.p_brand1'}]}\n",
      "taaaable aveeeec aliaaas\n",
      "saaaaans joiiiiin\n",
      "alias {'d': 'date', 'c': 'customer', 's': 'supplier', 'p': 'part', 'l': 'lineorder'}\n",
      "tables {'d': 'date', 'c': 'customer', 's': 'supplier', 'p': 'part', 'l': 'lineorder'}\n",
      "clauses [['l.lo_custkey', 'c.c_custkey'], ['l.lo_suppkey', 's.s_suppkey'], ['l.lo_partkey', 'p.p_partkey'], ['l.lo_orderdate', 'd.d_datekey']]\n"
     ]
    }
   ],
   "source": [
    "input=\"SELECT d.d_year,s.s_city,p.p_brand1,SUM(l.lo_revenue - l.lo_supplycost) AS profit  FROM date d,customer c,supplier s,part p,lineorder l WHERE l.lo_custkey = c.c_custkey AND l.lo_suppkey = s.s_suppkey  AND l.lo_partkey = p.p_partkey AND l.lo_orderdate = d.d_datekey AND c.c_region = 'AMERICA' AND s.s_nation = 'UNITED STATES' AND (d.d_year = 1997 OR d.d_year = 1998)  AND p.p_category = 'MFGR#14' GROUP BY  d.d_year, s.s_city, p.p_brand1 ORDER BY d.d_year,s.s_city,p.p_brand1;\"\n",
    "R,mode,parsed_query=queryParser(input)\n",
    "tables,joinedclauses=get_joinedClause(parsed_query)\n",
    "print('alias',alias)\n",
    "print('tables',tables)\n",
    "print('clauses',joinedClauses)"
   ]
  },
  {
   "cell_type": "code",
   "execution_count": 11,
   "metadata": {},
   "outputs": [
    {
     "name": "stdout",
     "output_type": "stream",
     "text": [
      "1\n"
     ]
    }
   ],
   "source": [
    "b = { \"c\" : 3, \"d\" : 4 }\n",
    "a = { \"a\" : 1, \"b\" : 2 }\n",
    "\n",
    "aa=\"a\"\n",
    "print(a[aa])"
   ]
  },
  {
   "cell_type": "code",
   "execution_count": 2,
   "metadata": {},
   "outputs": [
    {
     "ename": "ParseException",
     "evalue": "Expecting StringEnd, found \"join (info\" (at char 122, (line:1, col:123)\t",
     "output_type": "error",
     "traceback": [
      "\u001b[1;31m---------------------------------------------------------------------------\u001b[0m",
      "\u001b[1;31mParseException\u001b[0m                            Traceback (most recent call last)",
      "\u001b[1;32m<ipython-input-2-33ea55b2839c>\u001b[0m in \u001b[0;36m<module>\u001b[1;34m\u001b[0m\n\u001b[0;32m      1\u001b[0m \u001b[0minput\u001b[0m\u001b[1;33m=\u001b[0m\u001b[1;34m\"SELECT MIN(chn.name) AS voiced_char,MIN(n.name) AS voicing_actress,MIN(t.title) AS voiced_animation FROM info_type AS it3 join (info_type AS it join  (keyword AS k join (title AS t join movie_keyword AS mk on t.id = mk.movie_id)on k.id = mk.keyword_id) join complete_cast AS cc on t.id = cc.movie_id join comp_cast_type AS cct1 on cct1.id = cc.subject_id join cast_info AS ci on t.id = ci.movie_id join role_type AS rt on  rt.id = ci.role_id join movie_info AS mi on t.id = mi.movie_id join char_name AS chn on chn.id = ci.person_role_id join name AS n on n.id = ci.person_id join comp_cast_type AS cct2 on cct2.id = cc.status_id join person_info AS pi on n.id = pi.person_id) on it.id = mi.info_type_id)on it3.id = pi.info_type_id join aka_name AS an on n.id = an.person_id join movie_companies as mc on t.id = mc.movie_id join company_name AS cn on cn.id = mc.company_id  WHERE cct1.kind ='cast';\"\u001b[0m\u001b[1;33m\u001b[0m\u001b[1;33m\u001b[0m\u001b[0m\n\u001b[1;32m----> 2\u001b[1;33m \u001b[0mR\u001b[0m\u001b[1;33m,\u001b[0m\u001b[0mmode\u001b[0m\u001b[1;33m,\u001b[0m\u001b[0mparsed_query\u001b[0m\u001b[1;33m=\u001b[0m\u001b[0mqueryParser\u001b[0m\u001b[1;33m(\u001b[0m\u001b[0minput\u001b[0m\u001b[1;33m)\u001b[0m\u001b[1;33m\u001b[0m\u001b[1;33m\u001b[0m\u001b[0m\n\u001b[0m\u001b[0;32m      3\u001b[0m \u001b[0mprint\u001b[0m\u001b[1;33m(\u001b[0m\u001b[0mparsed_query\u001b[0m\u001b[1;33m)\u001b[0m\u001b[1;33m\u001b[0m\u001b[1;33m\u001b[0m\u001b[0m\n",
      "\u001b[1;32m~\\Desktop\\join ordering optimization1 - job\\queryParser.py\u001b[0m in \u001b[0;36mqueryParser\u001b[1;34m(input)\u001b[0m\n\u001b[0;32m    109\u001b[0m \u001b[1;32mdef\u001b[0m \u001b[0mqueryParser\u001b[0m\u001b[1;33m(\u001b[0m\u001b[0minput\u001b[0m\u001b[1;33m)\u001b[0m\u001b[1;33m:\u001b[0m\u001b[1;33m\u001b[0m\u001b[1;33m\u001b[0m\u001b[0m\n\u001b[0;32m    110\u001b[0m     \u001b[0minit\u001b[0m\u001b[1;33m(\u001b[0m\u001b[1;33m)\u001b[0m\u001b[1;33m\u001b[0m\u001b[1;33m\u001b[0m\u001b[0m\n\u001b[1;32m--> 111\u001b[1;33m     \u001b[0mparsed_query\u001b[0m\u001b[1;33m=\u001b[0m\u001b[0mparse\u001b[0m\u001b[1;33m(\u001b[0m\u001b[0minput\u001b[0m\u001b[1;33m)\u001b[0m\u001b[1;33m\u001b[0m\u001b[1;33m\u001b[0m\u001b[0m\n\u001b[0m\u001b[0;32m    112\u001b[0m     \u001b[0mprint\u001b[0m\u001b[1;33m(\u001b[0m\u001b[0mparsed_query\u001b[0m\u001b[1;33m)\u001b[0m\u001b[1;33m\u001b[0m\u001b[1;33m\u001b[0m\u001b[0m\n\u001b[0;32m    113\u001b[0m \u001b[1;33m\u001b[0m\u001b[0m\n",
      "\u001b[1;32m~\\Anaconda3\\lib\\site-packages\\moz_sql_parser\\__init__.py\u001b[0m in \u001b[0;36mparse\u001b[1;34m(sql)\u001b[0m\n\u001b[0;32m     21\u001b[0m     \u001b[1;32mwith\u001b[0m \u001b[0mparseLocker\u001b[0m\u001b[1;33m:\u001b[0m\u001b[1;33m\u001b[0m\u001b[1;33m\u001b[0m\u001b[0m\n\u001b[0;32m     22\u001b[0m         \u001b[0msql\u001b[0m \u001b[1;33m=\u001b[0m \u001b[0msql\u001b[0m\u001b[1;33m.\u001b[0m\u001b[0mrstrip\u001b[0m\u001b[1;33m(\u001b[0m\u001b[1;33m)\u001b[0m\u001b[1;33m.\u001b[0m\u001b[0mrstrip\u001b[0m\u001b[1;33m(\u001b[0m\u001b[1;34m\";\"\u001b[0m\u001b[1;33m)\u001b[0m\u001b[1;33m\u001b[0m\u001b[1;33m\u001b[0m\u001b[0m\n\u001b[1;32m---> 23\u001b[1;33m         \u001b[0mparse_result\u001b[0m \u001b[1;33m=\u001b[0m \u001b[0mSQLParser\u001b[0m\u001b[1;33m.\u001b[0m\u001b[0mparseString\u001b[0m\u001b[1;33m(\u001b[0m\u001b[0msql\u001b[0m\u001b[1;33m,\u001b[0m \u001b[0mparseAll\u001b[0m\u001b[1;33m=\u001b[0m\u001b[1;32mTrue\u001b[0m\u001b[1;33m)\u001b[0m\u001b[1;33m\u001b[0m\u001b[1;33m\u001b[0m\u001b[0m\n\u001b[0m\u001b[0;32m     24\u001b[0m         \u001b[1;32mreturn\u001b[0m \u001b[0mscrub\u001b[0m\u001b[1;33m(\u001b[0m\u001b[0mparse_result\u001b[0m\u001b[1;33m)\u001b[0m\u001b[1;33m\u001b[0m\u001b[1;33m\u001b[0m\u001b[0m\n\u001b[0;32m     25\u001b[0m \u001b[1;33m\u001b[0m\u001b[0m\n",
      "\u001b[1;32m~\\Anaconda3\\lib\\site-packages\\mo_parsing\\core.py\u001b[0m in \u001b[0;36moutput\u001b[1;34m(*args, **kwargs)\u001b[0m\n\u001b[0;32m     86\u001b[0m                 \u001b[0mself\u001b[0m \u001b[1;33m=\u001b[0m \u001b[0mself\u001b[0m\u001b[1;33m.\u001b[0m\u001b[0mstreamline\u001b[0m\u001b[1;33m(\u001b[0m\u001b[1;33m)\u001b[0m\u001b[1;33m\u001b[0m\u001b[1;33m\u001b[0m\u001b[0m\n\u001b[0;32m     87\u001b[0m                 \u001b[0mstreamlined\u001b[0m\u001b[1;33m[\u001b[0m\u001b[0m_id\u001b[0m\u001b[1;33m]\u001b[0m \u001b[1;33m=\u001b[0m \u001b[0mself\u001b[0m\u001b[1;33m\u001b[0m\u001b[1;33m\u001b[0m\u001b[0m\n\u001b[1;32m---> 88\u001b[1;33m             \u001b[1;32mreturn\u001b[0m \u001b[0mfunc\u001b[0m\u001b[1;33m(\u001b[0m\u001b[0mself\u001b[0m\u001b[1;33m,\u001b[0m \u001b[1;33m*\u001b[0m\u001b[0margs\u001b[0m\u001b[1;33m[\u001b[0m\u001b[1;36m1\u001b[0m\u001b[1;33m:\u001b[0m\u001b[1;33m]\u001b[0m\u001b[1;33m,\u001b[0m \u001b[1;33m**\u001b[0m\u001b[0mkwargs\u001b[0m\u001b[1;33m)\u001b[0m\u001b[1;33m\u001b[0m\u001b[1;33m\u001b[0m\u001b[0m\n\u001b[0m\u001b[0;32m     89\u001b[0m \u001b[1;33m\u001b[0m\u001b[0m\n\u001b[0;32m     90\u001b[0m     \u001b[1;32mreturn\u001b[0m \u001b[0moutput\u001b[0m\u001b[1;33m\u001b[0m\u001b[1;33m\u001b[0m\u001b[0m\n",
      "\u001b[1;32m~\\Anaconda3\\lib\\site-packages\\mo_parsing\\core.py\u001b[0m in \u001b[0;36mparseString\u001b[1;34m(self, string, parseAll)\u001b[0m\n\u001b[0;32m    285\u001b[0m \u001b[1;33m\u001b[0m\u001b[0m\n\u001b[0;32m    286\u001b[0m         \"\"\"\n\u001b[1;32m--> 287\u001b[1;33m         \u001b[1;32mreturn\u001b[0m \u001b[0mself\u001b[0m\u001b[1;33m.\u001b[0m\u001b[0m_parseString\u001b[0m\u001b[1;33m(\u001b[0m\u001b[0mstring\u001b[0m\u001b[1;33m,\u001b[0m \u001b[0mparseAll\u001b[0m\u001b[1;33m=\u001b[0m\u001b[0mparseAll\u001b[0m\u001b[1;33m)\u001b[0m\u001b[1;33m\u001b[0m\u001b[1;33m\u001b[0m\u001b[0m\n\u001b[0m\u001b[0;32m    288\u001b[0m \u001b[1;33m\u001b[0m\u001b[0m\n\u001b[0;32m    289\u001b[0m     \u001b[1;32mdef\u001b[0m \u001b[0m_parseString\u001b[0m\u001b[1;33m(\u001b[0m\u001b[0mself\u001b[0m\u001b[1;33m,\u001b[0m \u001b[0mstring\u001b[0m\u001b[1;33m,\u001b[0m \u001b[0mparseAll\u001b[0m\u001b[1;33m=\u001b[0m\u001b[1;32mFalse\u001b[0m\u001b[1;33m)\u001b[0m\u001b[1;33m:\u001b[0m\u001b[1;33m\u001b[0m\u001b[1;33m\u001b[0m\u001b[0m\n",
      "\u001b[1;32m~\\Anaconda3\\lib\\site-packages\\mo_parsing\\core.py\u001b[0m in \u001b[0;36m_parseString\u001b[1;34m(self, string, parseAll)\u001b[0m\n\u001b[0;32m    306\u001b[0m             \u001b[1;32mif\u001b[0m \u001b[0meng\u001b[0m\u001b[1;33m:\u001b[0m\u001b[1;33m\u001b[0m\u001b[1;33m\u001b[0m\u001b[0m\n\u001b[0;32m    307\u001b[0m                 \u001b[0mend\u001b[0m \u001b[1;33m=\u001b[0m \u001b[0meng\u001b[0m\u001b[1;33m.\u001b[0m\u001b[0mskip\u001b[0m\u001b[1;33m(\u001b[0m\u001b[0mstring\u001b[0m\u001b[1;33m,\u001b[0m \u001b[0mend\u001b[0m\u001b[1;33m)\u001b[0m\u001b[1;33m\u001b[0m\u001b[1;33m\u001b[0m\u001b[0m\n\u001b[1;32m--> 308\u001b[1;33m             \u001b[0mStringEnd\u001b[0m\u001b[1;33m(\u001b[0m\u001b[1;33m)\u001b[0m\u001b[1;33m.\u001b[0m\u001b[0m_parse\u001b[0m\u001b[1;33m(\u001b[0m\u001b[0mstring\u001b[0m\u001b[1;33m,\u001b[0m \u001b[0mend\u001b[0m\u001b[1;33m)\u001b[0m\u001b[1;33m\u001b[0m\u001b[1;33m\u001b[0m\u001b[0m\n\u001b[0m\u001b[0;32m    309\u001b[0m         \u001b[1;32mreturn\u001b[0m \u001b[0mtokens\u001b[0m\u001b[1;33m\u001b[0m\u001b[1;33m\u001b[0m\u001b[0m\n\u001b[0;32m    310\u001b[0m \u001b[1;33m\u001b[0m\u001b[0m\n",
      "\u001b[1;32m~\\Anaconda3\\lib\\site-packages\\mo_parsing\\core.py\u001b[0m in \u001b[0;36m_parse\u001b[1;34m(self, string, start, doActions)\u001b[0m\n\u001b[0;32m    243\u001b[0m     \u001b[1;32mdef\u001b[0m \u001b[0m_parse\u001b[0m\u001b[1;33m(\u001b[0m\u001b[0mself\u001b[0m\u001b[1;33m,\u001b[0m \u001b[0mstring\u001b[0m\u001b[1;33m,\u001b[0m \u001b[0mstart\u001b[0m\u001b[1;33m,\u001b[0m \u001b[0mdoActions\u001b[0m\u001b[1;33m=\u001b[0m\u001b[1;32mTrue\u001b[0m\u001b[1;33m)\u001b[0m\u001b[1;33m:\u001b[0m\u001b[1;33m\u001b[0m\u001b[1;33m\u001b[0m\u001b[0m\n\u001b[0;32m    244\u001b[0m         \u001b[1;32mtry\u001b[0m\u001b[1;33m:\u001b[0m\u001b[1;33m\u001b[0m\u001b[1;33m\u001b[0m\u001b[0m\n\u001b[1;32m--> 245\u001b[1;33m             \u001b[0mresult\u001b[0m \u001b[1;33m=\u001b[0m \u001b[0mself\u001b[0m\u001b[1;33m.\u001b[0m\u001b[0mparseImpl\u001b[0m\u001b[1;33m(\u001b[0m\u001b[0mstring\u001b[0m\u001b[1;33m,\u001b[0m \u001b[0mstart\u001b[0m\u001b[1;33m,\u001b[0m \u001b[0mdoActions\u001b[0m\u001b[1;33m)\u001b[0m\u001b[1;33m\u001b[0m\u001b[1;33m\u001b[0m\u001b[0m\n\u001b[0m\u001b[0;32m    246\u001b[0m         \u001b[1;32mexcept\u001b[0m \u001b[0mException\u001b[0m \u001b[1;32mas\u001b[0m \u001b[0mcause\u001b[0m\u001b[1;33m:\u001b[0m\u001b[1;33m\u001b[0m\u001b[1;33m\u001b[0m\u001b[0m\n\u001b[0;32m    247\u001b[0m             self.parser_config.failAction and self.parser_config.failAction(\n",
      "\u001b[1;32m~\\Anaconda3\\lib\\site-packages\\mo_parsing\\tokens.py\u001b[0m in \u001b[0;36mparseImpl\u001b[1;34m(self, string, start, doActions)\u001b[0m\n\u001b[0;32m    650\u001b[0m             \u001b[1;32mreturn\u001b[0m \u001b[0mParseResults\u001b[0m\u001b[1;33m(\u001b[0m\u001b[0mself\u001b[0m\u001b[1;33m,\u001b[0m \u001b[0mend\u001b[0m\u001b[1;33m,\u001b[0m \u001b[0mend\u001b[0m\u001b[1;33m,\u001b[0m \u001b[1;33m[\u001b[0m\u001b[1;33m]\u001b[0m\u001b[1;33m)\u001b[0m\u001b[1;33m\u001b[0m\u001b[1;33m\u001b[0m\u001b[0m\n\u001b[0;32m    651\u001b[0m \u001b[1;33m\u001b[0m\u001b[0m\n\u001b[1;32m--> 652\u001b[1;33m         \u001b[1;32mraise\u001b[0m \u001b[0mParseException\u001b[0m\u001b[1;33m(\u001b[0m\u001b[0mself\u001b[0m\u001b[1;33m,\u001b[0m \u001b[0mstart\u001b[0m\u001b[1;33m,\u001b[0m \u001b[0mstring\u001b[0m\u001b[1;33m)\u001b[0m\u001b[1;33m\u001b[0m\u001b[1;33m\u001b[0m\u001b[0m\n\u001b[0m\u001b[0;32m    653\u001b[0m \u001b[1;33m\u001b[0m\u001b[0m\n\u001b[0;32m    654\u001b[0m \u001b[1;33m\u001b[0m\u001b[0m\n",
      "\u001b[1;31mParseException\u001b[0m: Expecting StringEnd, found \"join (info\" (at char 122, (line:1, col:123)\t"
     ]
    }
   ],
   "source": [
    "import random\n",
    "import numpy as np\n",
    "from queryParser import queryParser,listToQuery\n",
    "from functions import *\n",
    "import psycopg2\n",
    "from moz_sql_parser import parse\n",
    "from moz_sql_parser import format\n",
    "input=\"SELECT MIN(chn.name) AS voiced_char,MIN(n.name) AS voicing_actress,MIN(t.title) AS voiced_animation FROM info_type AS it3 join (info_type AS it join  (keyword AS k join (title AS t join movie_keyword AS mk on t.id = mk.movie_id)on k.id = mk.keyword_id) join complete_cast AS cc on t.id = cc.movie_id join comp_cast_type AS cct1 on cct1.id = cc.subject_id join cast_info AS ci on t.id = ci.movie_id join role_type AS rt on  rt.id = ci.role_id join movie_info AS mi on t.id = mi.movie_id join char_name AS chn on chn.id = ci.person_role_id join name AS n on n.id = ci.person_id join comp_cast_type AS cct2 on cct2.id = cc.status_id join person_info AS pi on n.id = pi.person_id) on it.id = mi.info_type_id)on it3.id = pi.info_type_id join aka_name AS an on n.id = an.person_id join movie_companies as mc on t.id = mc.movie_id join company_name AS cn on cn.id = mc.company_id  WHERE cct1.kind ='cast';\"\n",
    "R,mode,parsed_query=queryParser(input)\n",
    "print(parsed_query)"
   ]
  },
  {
   "cell_type": "code",
   "execution_count": 1,
   "metadata": {},
   "outputs": [
    {
     "name": "stdout",
     "output_type": "stream",
     "text": [
      "{'select': [{'value': {'min': 'chn.name'}, 'name': 'voiced_char'}, {'value': {'min': 'n.name'}, 'name': 'voicing_actress'}, {'value': {'min': 't.title'}, 'name': 'voiced_animation'}], 'from': [{'value': 'title', 'name': 't'}, {'join': {'name': 'mi', 'value': 'movie_info'}, 'on': {'eq': ['t.id', 'mi.movie_id']}}, {'join': {'name': 'mc', 'value': 'movie_companies'}, 'on': {'eq': ['t.id', 'mc.movie_id']}}, {'join': {'name': 'ci', 'value': 'cast_info'}, 'on': {'eq': ['t.id', 'ci.movie_id']}}, {'join': {'name': 'mk', 'value': 'movie_keyword'}, 'on': {'eq': ['t.id', 'mk.movie_id']}}]}\n",
      "taaaable aveeeec aliaaas\n",
      "aveeeec joiiiiiin \n",
      "['title', 'movie_info', 'movie_companies', 'cast_info', 'movie_keyword']\n",
      "alias {'title': 't', 'movie_info': 'mi', 'movie_companies': 'mc', 'cast_info': 'ci', 'movie_keyword': 'mk'}\n",
      "[['t.id', 'mi.movie_id'], ['t.id', 'mc.movie_id'], ['t.id', 'ci.movie_id'], ['t.id', 'mk.movie_id']]\n",
      "{'select': [{'value': {'min': 'chn.name'}, 'name': 'voiced_char'}, {'value': {'min': 'n.name'}, 'name': 'voicing_actress'}, {'value': {'min': 't.title'}, 'name': 'voiced_animation'}], 'from': [{'value': 'title', 'name': 't'}, {'join': {'name': 'mi', 'value': 'movie_info'}, 'on': {'eq': ['t.id', 'mi.movie_id']}}, {'join': {'name': 'mc', 'value': 'movie_companies'}, 'on': {'eq': ['t.id', 'mc.movie_id']}}, {'join': {'name': 'ci', 'value': 'cast_info'}, 'on': {'eq': ['t.id', 'ci.movie_id']}}, {'join': {'name': 'mk', 'value': 'movie_keyword'}, 'on': {'eq': ['t.id', 'mk.movie_id']}}]}\n"
     ]
    }
   ],
   "source": [
    "import random\n",
    "import numpy as np\n",
    "from queryParser import queryParser,listToQuery\n",
    "from functions import *\n",
    "import psycopg2\n",
    "from moz_sql_parser import parse\n",
    "from moz_sql_parser import format\n",
    "input=\"SELECT MIN(chn.name) AS voiced_char,MIN(n.name) AS voicing_actress,MIN(t.title) AS voiced_animation FROM title AS t join movie_info AS mi on t.id = mi.movie_id join movie_companies as mc on t.id = mc.movie_id join cast_info AS ci on t.id = ci.movie_id join movie_keyword AS mk on t.id = mk.movie_id\"\n",
    "R,mode,parsed_query=queryParser(input)\n",
    "print(parsed_query)\n"
   ]
  },
  {
   "cell_type": "code",
   "execution_count": 1,
   "metadata": {},
   "outputs": [
    {
     "ename": "SyntaxError",
     "evalue": "invalid syntax (<ipython-input-1-b6360337b231>, line 1)",
     "output_type": "error",
     "traceback": [
      "\u001b[1;36m  File \u001b[1;32m\"<ipython-input-1-b6360337b231>\"\u001b[1;36m, line \u001b[1;32m1\u001b[0m\n\u001b[1;33m    parsed_query= {'select': [{'value': {'min': 'chn.name'}, 'name': 'voiced_char'}, {'value': {'min': 'n.name'}, 'name': 'voicing_actress'}, {'value': {'min': 't.title'}, 'name': 'voiced_animation'}], 'from': [{'value': 'title', 'name': 't'}, {'join': {{'name': 'mi', 'value': 'movie_info'},{'join': {'name': 'mc', 'value': 'movie_companies'}, 'on': {'eq': ['t.id', 'mi.movie_id']}} , 'on': {'eq': ['t.id', 'mc.movie_id']}}}]}\u001b[0m\n\u001b[1;37m                                                                                                                                                                                                                                                                                                                                                                                                      ^\u001b[0m\n\u001b[1;31mSyntaxError\u001b[0m\u001b[1;31m:\u001b[0m invalid syntax\n"
     ]
    }
   ],
   "source": [
    "parsed_query= {'select': [{'value': {'min': 'chn.name'}, 'name': 'voiced_char'}, {'value': {'min': 'n.name'}, 'name': 'voicing_actress'}, {'value': {'min': 't.title'}, 'name': 'voiced_animation'}], 'from': [{'value': 'title', 'name': 't'}, {'join': {{'name': 'mi', 'value': 'movie_info'},{'join': {'name': 'mc', 'value': 'movie_companies'}, 'on': {'eq': ['t.id', 'mi.movie_id']}} , 'on': {'eq': ['t.id', 'mc.movie_id']}}}]}\n",
    "new_query=format(parsed_query)\n",
    "print(new_query)"
   ]
  },
  {
   "cell_type": "code",
   "execution_count": null,
   "metadata": {},
   "outputs": [],
   "source": []
  }
 ],
 "metadata": {
  "kernelspec": {
   "display_name": "Python 3",
   "language": "python",
   "name": "python3"
  },
  "language_info": {
   "codemirror_mode": {
    "name": "ipython",
    "version": 3
   },
   "file_extension": ".py",
   "mimetype": "text/x-python",
   "name": "python",
   "nbconvert_exporter": "python",
   "pygments_lexer": "ipython3",
   "version": "3.8.3"
  }
 },
 "nbformat": 4,
 "nbformat_minor": 5
}
