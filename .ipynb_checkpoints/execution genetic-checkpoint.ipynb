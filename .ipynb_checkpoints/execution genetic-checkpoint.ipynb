{
 "cells": [
  {
   "cell_type": "code",
   "execution_count": null,
   "metadata": {},
   "outputs": [
    {
     "name": "stdout",
     "output_type": "stream",
     "text": [
      "file C:/Users\\zeblahm\\Desktop\\JOB\\query\\7b.sql\n",
      "input SELECT MIN(n.name) AS of_person,\n",
      "       MIN(t.title) AS biography_movie\n",
      "FROM aka_name AS an,\n",
      "     cast_info AS ci,\n",
      "     info_type AS it,\n",
      "     link_type AS lt,\n",
      "     movie_link AS ml,\n",
      "     name AS n,\n",
      "     person_info AS pi,\n",
      "     title AS t\n",
      "WHERE an.name LIKE '%a%'\n",
      "  AND it.info ='mini biography'\n",
      "  AND lt.link ='features'\n",
      "  AND n.name_pcode_cf LIKE 'D%'\n",
      "  AND n.gender='m'\n",
      "  AND pi.note ='Volker Boehm'\n",
      "  AND t.production_year BETWEEN 1980 AND 1984\n",
      "  AND n.id = an.person_id\n",
      "  AND n.id = pi.person_id\n",
      "  AND ci.person_id = n.id\n",
      "  AND t.id = ci.movie_id\n",
      "  AND ml.linked_movie_id = t.id\n",
      "  AND lt.id = ml.link_type_id\n",
      "  AND it.id = pi.info_type_id\n",
      "  AND pi.person_id = an.person_id\n",
      "  AND pi.person_id = ci.person_id\n",
      "  AND an.person_id = ci.person_id\n",
      "  AND ci.movie_id = ml.linked_movie_id;\n",
      "\n",
      "\n"
     ]
    }
   ],
   "source": [
    "from pylab import *\n",
    "import matplotlib.pyplot as plt\n",
    "import random as r\n",
    "import numpy as np\n",
    "\n",
    "from GA import *\n",
    "Ga=[]\n",
    "Po=[]\n",
    "conn,cursor = connect_bdd(\"job\")\n",
    "sqlFiles=get_sqlFiles()\n",
    "for file in sqlFiles:\n",
    "    input = open(file, 'r').read()\n",
    "    print(\"file\",file)\n",
    "    print(\"input\" , input)\n",
    "    solution=Genetic_algorithm(input,cursor)\n",
    "    print('Solution:',solution[0][0], 'with cost ', solution[1])\n",
    "    Ga.append(solution[1])\n",
    "    cost=get_runTime(input,cursor)\n",
    "    print('Postgres Cost: ',cost)\n",
    "    Po.append(cost)\n",
    "    print(\"GA\",Ga)\n",
    "    print(\"postgres\",Po)"
   ]
  },
  {
   "cell_type": "code",
   "execution_count": null,
   "metadata": {},
   "outputs": [],
   "source": [
    "from pylab import *\n",
    "import matplotlib.pyplot as plt\n",
    "import random as r\n",
    "import numpy as np\n",
    "\n",
    "from GAenergy import *\n",
    "Ga=[]\n",
    "Po=[]\n",
    "conn,cursor = connect_bdd(\"job\")\n",
    "sqlFiles=get_sqlFiles()\n",
    "for file in sqlFiles:\n",
    "    input = open(file, 'r').read()\n",
    "    print(\"file\",file)\n",
    "    print(\"input\" , input)\n",
    "    solution=Genetic_algorithm(input,cursor)\n",
    "    print('Solution:',solution[0][0], 'with cost ', solution[1])\n",
    "    Ga.append(solution[1])\n",
    "    cost=get_energy(input,cursor)\n",
    "    print('Postgres Cost: ',cost)\n",
    "    Po.append(cost)\n",
    "    print(\"GA\",Ga)\n",
    "    print(\"postgres\",Po)"
   ]
  },
  {
   "cell_type": "code",
   "execution_count": null,
   "metadata": {},
   "outputs": [],
   "source": []
  }
 ],
 "metadata": {
  "kernelspec": {
   "display_name": "Python 3",
   "language": "python",
   "name": "python3"
  },
  "language_info": {
   "codemirror_mode": {
    "name": "ipython",
    "version": 3
   },
   "file_extension": ".py",
   "mimetype": "text/x-python",
   "name": "python",
   "nbconvert_exporter": "python",
   "pygments_lexer": "ipython3",
   "version": "3.8.3"
  }
 },
 "nbformat": 4,
 "nbformat_minor": 5
}
