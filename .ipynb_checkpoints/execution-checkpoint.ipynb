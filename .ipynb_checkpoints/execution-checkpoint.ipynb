{
 "cells": [
  {
   "cell_type": "code",
   "execution_count": null,
   "metadata": {},
   "outputs": [
    {
     "name": "stdout",
     "output_type": "stream",
     "text": [
      "file C:/Users\\zeblahm\\Desktop\\JOB\\queries\\10a.sql\n",
      "input SELECT MIN(chn.name) AS uncredited_voiced_character,\n",
      "       MIN(t.title) AS russian_movie\n",
      "FROM char_name AS chn,\n",
      "     cast_info AS ci,\n",
      "     company_name AS cn,\n",
      "     company_type AS ct,\n",
      "     movie_companies AS mc,\n",
      "     role_type AS rt,\n",
      "     title AS t\n",
      "WHERE ci.note LIKE '%(voice)%'\n",
      "  AND ci.note LIKE '%(uncredited)%'\n",
      "  AND cn.country_code = '[ru]'\n",
      "  AND rt.role = 'actor'\n",
      "  AND t.production_year > 2005\n",
      "  AND t.id = mc.movie_id\n",
      "  AND t.id = ci.movie_id\n",
      "  AND ci.movie_id = mc.movie_id\n",
      "  AND chn.id = ci.person_role_id\n",
      "  AND rt.id = ci.role_id\n",
      "  AND cn.id = mc.company_id\n",
      "  AND ct.id = mc.company_type_id;\n",
      "\n",
      "\n",
      "yeeeeeeeeeeeeeeeeeeeeeeeeeeees\n",
      "query select count(*) from title t WHERE t.production_year > 2005\n",
      "query SELECT COUNT(*) FROM title AS t LEFT JOIN cast_info AS ci ON t.id = ci.movie_id WHERE ci.note LIKE '%(voice)%' AND ci.note LIKE '%(uncredited)%' AND t.production_year > 2005\n",
      "query select count(*) from title t left join movie_companies as mc on t.id = mc.movie_id \n"
     ]
    }
   ],
   "source": [
    "from leftDeepTitle import *\n",
    "from queryParser import *\n",
    "from pylab import *\n",
    "import matplotlib.pyplot as plt\n",
    "#'C:/Users\\zeblahm\\Desktop\\JOB\\queries\\1a.sql'\n",
    "conn,cursor = connect_bdd(\"job\")\n",
    "leftDeepTiltle=[]\n",
    "postgres=[]\n",
    "sqlFiles=get_sqlFiles()\n",
    "for file in sqlFiles:\n",
    "    input = open(file, 'r').read()\n",
    "    print(\"file\",file)\n",
    "    print(\"input\" , input)\n",
    "    solution=get_randomState(input,cursor)\n",
    "    leftDeepTiltle.append(solution[1])\n",
    "    cost=get_cost(input,cursor)\n",
    "    postgres.append(cost)\n",
    "    print(\"\\n\"+\"solution\"+\"\\n\",solution[0],\"\\n\"+ \"cost : \" , solution[1])\n",
    "    print(\"postgres : \" , cost)\n",
    "    print('leftDeepTiltle',leftDeepTiltle)\n",
    "    print('Postgres',postgres)\n",
    "print('leftDeepTiltle',leftDeepTiltle)\n",
    "print('Postgres',postgres)"
   ]
  },
  {
   "cell_type": "code",
   "execution_count": null,
   "metadata": {},
   "outputs": [],
   "source": []
  }
 ],
 "metadata": {
  "kernelspec": {
   "display_name": "Python 3",
   "language": "python",
   "name": "python3"
  },
  "language_info": {
   "codemirror_mode": {
    "name": "ipython",
    "version": 3
   },
   "file_extension": ".py",
   "mimetype": "text/x-python",
   "name": "python",
   "nbconvert_exporter": "python",
   "pygments_lexer": "ipython3",
   "version": "3.8.3"
  }
 },
 "nbformat": 4,
 "nbformat_minor": 5
}
